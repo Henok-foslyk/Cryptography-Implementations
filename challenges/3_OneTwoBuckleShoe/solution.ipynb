{
 "cells": [
  {
   "cell_type": "code",
   "execution_count": 5,
   "metadata": {},
   "outputs": [
    {
     "name": "stdout",
     "output_type": "stream",
     "text": [
      "8 :   cRYsYs\u0000lAB\f\u0000bUDA\n"
     ]
    }
   ],
   "source": [
    "v1 = open(\"LabProfile-v1.crypt\", \"rb\")\n",
    "v1_1 = open(\"LabProfile-v1.1.crypt\", \"rb\")\n",
    "\n",
    "counter = 0\n",
    "eof = False\n",
    "while (eof == False):\n",
    "    line1 = v1.read(16)\n",
    "    line11 = v1_1.read(16)\n",
    "    if len(line1) == 16 and len(line11) == 16:\n",
    "        xor = \"\".join([chr(b1 ^ b2) for b1, b2 in zip(line1, line11)])\n",
    "        if xor != '\\x00' * 16:\n",
    "            print(counter, \":   \" + xor)\n",
    "            break\n",
    "    else:\n",
    "        eof = True\n",
    "    counter += 1\n",
    "prev = \"\".join([chr(b1 ^ b2) for b1, b2 in zip(xor.encode('utf-8'), [0x20] * 16)])\n",
    "res = prev"
   ]
  },
  {
   "cell_type": "code",
   "execution_count": 19,
   "metadata": {},
   "outputs": [
    {
     "name": "stdout",
     "output_type": "stream",
     "text": [
      "7461636b2e5b31305d0a0a0a01000000\n"
     ]
    }
   ],
   "source": [
    "eof = False\n",
    "while not eof:\n",
    "    line = v1.read(16)\n",
    "    line2 = v1_1.read(16)\n",
    "    if len(line) != 16 or len(line2) != 16:\n",
    "        break\n",
    "    else:\n",
    "        xor = \"\".join([chr(b1 ^ b2 ^ b3) for b1, b2, b3 in zip(line, line2, prev.encode('utf-8'))])\n",
    "        prev = xor\n",
    "        res += xor\n",
    "\n",
    "#print(res)\n",
    "print(prev.encode('utf-8').hex())"
   ]
  }
 ],
 "metadata": {
  "kernelspec": {
   "display_name": "base",
   "language": "python",
   "name": "python3"
  },
  "language_info": {
   "codemirror_mode": {
    "name": "ipython",
    "version": 3
   },
   "file_extension": ".py",
   "mimetype": "text/x-python",
   "name": "python",
   "nbconvert_exporter": "python",
   "pygments_lexer": "ipython3",
   "version": "3.12.4"
  }
 },
 "nbformat": 4,
 "nbformat_minor": 2
}
