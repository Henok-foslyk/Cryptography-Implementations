{
 "cells": [
  {
   "cell_type": "code",
   "execution_count": null,
   "metadata": {},
   "outputs": [],
   "source": [
    "\"\"\"\"\n",
    "Postal code: 20.02\n",
    "\n",
    "32 48 __ 48  50 \n",
    "ac f7 2a 87  a7\n",
    "\"\"\"\n",
    "\n",
    "\"\"\"\n",
    "Name: Thomas Cook\n",
    "20 T  __  o  m  a  s     C  o ??  k\n",
    "83 2e 32 4e b1 5a b0 d1 26 13 85 e0\n",
    "\"\"\"\n",
    "\n",
    "\"\"\"\n",
    "Address: 18 Constituion Avenue\n",
    "\n",
    "20 ?? ?? ?? ?? ?? ?? ?? ?? ?? ?? ?? ?? ?? ?? ?? ?? ?? ?? ?? ?? ?? ??\n",
    "52 09 3c 9f 91 61 bb 68 9f 0f 4c 83 a6 2b ac eb 0b 24 8d 5f 3c 13 88\n",
    "\"\"\"\n"
   ]
  },
  {
   "cell_type": "code",
   "execution_count": 27,
   "metadata": {},
   "outputs": [],
   "source": [
    "            #yj-1   xi     yi-1\n",
    "def get_val(a, b, c):\n",
    "    hex_values = [a, b, c]\n",
    "\n",
    "    # Convert hex to decimal and apply XOR operation\n",
    "    result = int(hex_values[0], 16)\n",
    "    for hex_value in hex_values[1:]:\n",
    "        result ^= int(hex_value, 16)\n",
    "    hex_result = hex(result)\n",
    "    try:\n",
    "        # Remove the \"0x\" prefix and convert the hex to bytes\n",
    "        bytes_value = bytes.fromhex(hex_result[2:])\n",
    "        ascii_result = bytes_value.decode('ascii')\n",
    "        print(f\"{ascii_result}\")\n",
    "    except UnicodeDecodeError:\n",
    "        print(\"The result is not valid ASCII.\")"
   ]
  },
  {
   "cell_type": "code",
   "execution_count": 29,
   "metadata": {},
   "outputs": [],
   "source": [
    "yjs = ['52', '09', '3c', '9f', '91', '61', 'bb', \n",
    "       '68', '9f', '0f', '4c', '83', 'a6', '2b', \n",
    "       'ac', 'eb', '0b', '24', '8d', '5f', '3c', '13', '88']\n",
    "\n",
    "matches = [(0, 0), \n",
    "           (\"11\", \"72\"), \n",
    "           ('45', '74'),\n",
    "           ('77', '6b'),\n",
    "           (0, 0),\n",
    "           ('98', '66'),\n",
    "           (0, 0),\n",
    "           (\"bd\", '75'),\n",
    "           ('79', '65'),\n",
    "           (0, 0),\n",
    "           (\"14\", '6f'),\n",
    "           (\"58\", \"61\"),\n",
    "           ('82', '75'),\n",
    "           ('bf', '70'),\n",
    "           ('6f', '2b'),\n",
    "           (0, 0),\n",
    "           ('6d', 'a6'),\n",
    "           ('27', '6d'),\n",
    "           ('72', '20'),\n",
    "           ('86', '6e'),\n",
    "           ('45', '74'),\n",
    "           ('20', '69'),\n",
    "           ('58', '2e') ]"
   ]
  },
  {
   "cell_type": "code",
   "execution_count": 30,
   "metadata": {},
   "outputs": [
    {
     "name": "stdout",
     "output_type": "stream",
     "text": [
      "1\n",
      "8\n",
      " \n",
      "__\n",
      "o\n",
      "__\n",
      "s\n",
      "t\n",
      "__\n",
      "t\n",
      "u\n",
      "t\n",
      "i\n",
      "o\n",
      "__\n",
      " \n",
      "A\n",
      "v\n",
      "e\n",
      "n\n",
      "u\n",
      "e\n"
     ]
    }
   ],
   "source": [
    "for i in range(1, len(matches)):\n",
    "    a = yjs[i-1]\n",
    "    b, c = matches[i]\n",
    "\n",
    "    if (b, c) == (0, 0):\n",
    "        print(\"__\")\n",
    "        continue\n",
    "\n",
    "    get_val(a, b, c)\n",
    "\n",
    "    "
   ]
  }
 ],
 "metadata": {
  "kernelspec": {
   "display_name": "base",
   "language": "python",
   "name": "python3"
  },
  "language_info": {
   "codemirror_mode": {
    "name": "ipython",
    "version": 3
   },
   "file_extension": ".py",
   "mimetype": "text/x-python",
   "name": "python",
   "nbconvert_exporter": "python",
   "pygments_lexer": "ipython3",
   "version": "3.12.4"
  }
 },
 "nbformat": 4,
 "nbformat_minor": 2
}
