{
 "cells": [
  {
   "cell_type": "code",
   "execution_count": null,
   "metadata": {},
   "outputs": [
    {
     "name": "stdout",
     "output_type": "stream",
     "text": [
      "b'\\x9a\\xd8\\x8ajm6\\xde\\x15\\xc1K\\xdb\\x9c\\x19\\xe5\\xe9\\x1d'\n"
     ]
    }
   ],
   "source": [
    "X_i  = bytes.fromhex(\"b5562ff25e66e602eae4dbd61b2d5e8b\")\n",
    "X_i2 = bytes.fromhex(\"9d6f86e273de3f3905bc068defea0571\")\n",
    "ciphertext = v1 = open(\"ciphertext.crypt\", \"rb\")\n",
    "IV = ciphertext.read(16)"
   ]
  },
  {
   "cell_type": "code",
   "execution_count": null,
   "metadata": {},
   "outputs": [],
   "source": [
    "X_i1 = bytes(a ^ b for a, b in zip(X_i2, IV))\n",
    "K = bytes(a ^ b for a, b in zip(X_i1, X_i))"
   ]
  },
  {
   "cell_type": "code",
   "execution_count": 14,
   "metadata": {},
   "outputs": [
    {
     "name": "stdout",
     "output_type": "stream",
     "text": [
      "b2e1237a408e072e2e1306c7ed22b2e7\n"
     ]
    }
   ],
   "source": [
    "print(K.hex())"
   ]
  },
  {
   "cell_type": "markdown",
   "metadata": {},
   "source": []
  }
 ],
 "metadata": {
  "kernelspec": {
   "display_name": "base",
   "language": "python",
   "name": "python3"
  },
  "language_info": {
   "codemirror_mode": {
    "name": "ipython",
    "version": 3
   },
   "file_extension": ".py",
   "mimetype": "text/x-python",
   "name": "python",
   "nbconvert_exporter": "python",
   "pygments_lexer": "ipython3",
   "version": "3.12.4"
  }
 },
 "nbformat": 4,
 "nbformat_minor": 2
}
