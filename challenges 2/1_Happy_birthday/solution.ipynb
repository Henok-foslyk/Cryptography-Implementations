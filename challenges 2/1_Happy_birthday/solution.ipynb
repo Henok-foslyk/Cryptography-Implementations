{
 "cells": [
  {
   "cell_type": "code",
   "execution_count": 2,
   "metadata": {},
   "outputs": [],
   "source": [
    "from Crypto.Hash import MD5\n",
    "def trhash(x):\n",
    "    h = MD5.new()\n",
    "    h.update(x)\n",
    "    return h.digest()[0:4]"
   ]
  },
  {
   "cell_type": "code",
   "execution_count": 3,
   "metadata": {},
   "outputs": [],
   "source": [
    "t = \"Dear Mr. Jones, I'm delighted to inform you that you have been selected as one of the winners of our competition. Your prize will be 1,000,000 USD, which we will transfer to your bank account within one week. Best regards, Andrew B. Clark\"\n",
    "s = \"Dear Mr. Jones, I regret to inform you that your complaint was not approved by our management. This, unfortunately means that you cannot reclaim your cost of 1,234 USD and in addition you have to cover our investigation cost of 345 USD as well. Yours sincerely, Andrew B. Clark\""
   ]
  },
  {
   "cell_type": "code",
   "execution_count": 4,
   "metadata": {},
   "outputs": [],
   "source": [
    "A = [\"Mr.\", \"Mister\"]\n",
    "B = [\"I'm\", \"I am\"]\n",
    "C = [\"1,000,000 USD\", \"1 million USD\"]\n",
    "D = [\"1\", \"one\"]\n",
    "S = [\" \", \"  \",]"
   ]
  },
  {
   "cell_type": "code",
   "execution_count": null,
   "metadata": {},
   "outputs": [
    {
     "name": "stdout",
     "output_type": "stream",
     "text": [
      "65535\n"
     ]
    }
   ],
   "source": [
    "thsh = dict()\n",
    "for a in A:\n",
    "    for b in B:\n",
    "        for c in C:\n",
    "            for d in D:\n",
    "                for s1 in S:\n",
    "                    for s2 in S:\n",
    "                        for s3 in S:\n",
    "                            for s4 in S:\n",
    "                                for s5 in S:\n",
    "                                    for s6 in S:\n",
    "                                        for s7 in S:\n",
    "                                            for s8 in S:\n",
    "                                                for s9 in S:\n",
    "                                                    for s10 in S:\n",
    "                                                        for s11 in S:\n",
    "                                                            for s12 in S:\n",
    "                                                                trial = f\"Dear {a} Jones, {b} delighted{s1}to{s2}inform{s3}you{s4}that{s5}you{s6}have{s7}been{s8}selected{s9}as{s10}one{s11}of the{s12}winners of our competition. Your prize will be {c}, which we will transfer to your bank account within {d} week. Best regards, Andrew B. Clark\"\n",
    "                                                                thsh[trhash(trial.encode(\"ascii\"))] = trial\n",
    "\n",
    "                    \n",
    "                "
   ]
  },
  {
   "cell_type": "code",
   "execution_count": 6,
   "metadata": {},
   "outputs": [],
   "source": [
    "E = [\"1,234\", \"one thousand two hundred thirty four\"]\n",
    "F = [\"USD\", \"US dollars\"]\n",
    "G = [\"345\", \"three hundred forty five\"]"
   ]
  },
  {
   "cell_type": "code",
   "execution_count": null,
   "metadata": {},
   "outputs": [
    {
     "name": "stdout",
     "output_type": "stream",
     "text": [
      "Dear Mr. Jones, I am delighted  to inform you that you  have  been selected  as  one  of the winners of our competition. Your prize will be 1,000,000 USD, which we will transfer to your bank account within 1 week. Best regards, Andrew B. Clark\n",
      "Dear Mister Jones, I  regret to inform  you  that  your  complaint  was not  approved  by our management. This, unfortunately means that you cannot reclaim your cost of 1,234 US dollars and in addition you have to cover our investigation cost of three hundred forty five US dollars as well. Yours sincerely, Andrew B. Clark\n",
      "Dear Mr. Jones, I am delighted  to inform you that you  have  been selected  as  one  of the winners of our competition. Your prize will be 1,000,000 USD, which we will transfer to your bank account within 1 week. Best regards, Andrew B. Clark\n",
      "Dear Mister Jones, I  regret to inform  you  that  your  complaint  was not  approved  by our management. This, unfortunately means that you cannot reclaim your cost of 1,234 US dollars and in addition you have to cover our investigation cost of three hundred forty five US dollars as well. Yours sincerely, Andrew B. Clark\n",
      "Dear Mr. Jones, I am delighted  to  inform  you that  you  have been  selected as one of the winners of our competition. Your prize will be 1,000,000 USD, which we will transfer to your bank account within one week. Best regards, Andrew B. Clark\n",
      "Dear Mister Jones, I  regret  to  inform  you that your  complaint  was  not approved by  our management. This, unfortunately means that you cannot reclaim your cost of 1,234 US dollars and in addition you have to cover our investigation cost of three hundred forty five US dollars as well. Yours sincerely, Andrew B. Clark\n",
      "Dear Mr. Jones, I am delighted  to  inform  you that  you  have been  selected as one of the winners of our competition. Your prize will be 1,000,000 USD, which we will transfer to your bank account within one week. Best regards, Andrew B. Clark\n",
      "Dear Mister Jones, I  regret  to  inform  you that your  complaint  was  not approved by  our management. This, unfortunately means that you cannot reclaim your cost of 1,234 US dollars and in addition you have to cover our investigation cost of three hundred forty five US dollars as well. Yours sincerely, Andrew B. Clark\n",
      "65533\n"
     ]
    }
   ],
   "source": [
    "shsh = dict()\n",
    "for s1 in S:\n",
    "    for s2 in S:\n",
    "        for s3 in S:\n",
    "            for s4 in S:\n",
    "                for s5 in S:\n",
    "                    for s6 in S:\n",
    "                        for s7 in S:\n",
    "                            for s8 in S:\n",
    "                                for s9 in S:\n",
    "                                    for s10 in S:\n",
    "                                        for s11 in S:\n",
    "                                            for s12 in S:\n",
    "                                                for e in E:\n",
    "                                                    for e2 in E:\n",
    "                                                        for a in A:\n",
    "                                                            for f in F:\n",
    "                                                                for g in G:\n",
    "                                                                    strial = f\"Dear {a} Jones, I{s1}regret{s2}to{s3}inform{s4}you{s5}that{s6}your{s7}complaint{s8}was{s9}not{s10}approved{s11}by{s12}our management. This, unfortunately means that you cannot reclaim your cost of {e} {f} and in addition you have to cover our investigation cost of {g} {f} as well. Yours sincerely, Andrew B. Clark\"\n",
    "                                                                    shsh[trhash(strial.encode(\"ascii\"))] = strial"
   ]
  }
 ],
 "metadata": {
  "kernelspec": {
   "display_name": "Python 3",
   "language": "python",
   "name": "python3"
  },
  "language_info": {
   "codemirror_mode": {
    "name": "ipython",
    "version": 3
   },
   "file_extension": ".py",
   "mimetype": "text/x-python",
   "name": "python",
   "nbconvert_exporter": "python",
   "pygments_lexer": "ipython3",
   "version": "3.9.6"
  }
 },
 "nbformat": 4,
 "nbformat_minor": 2
}
