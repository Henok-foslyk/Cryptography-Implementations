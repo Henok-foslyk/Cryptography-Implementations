{
 "cells": [
  {
   "cell_type": "markdown",
   "metadata": {},
   "source": [
    "# Demonstrating the padding oracle attack \n",
    "\n",
    "In this notebook, we will study the padding oracle attack on CBC mode encryption. The code in the code boxes below allow you to play around with a padding oracle and observe its responses to different queries. "
   ]
  },
  {
   "cell_type": "markdown",
   "metadata": {},
   "source": [
    "Let's start by creating some encrypted block, which will serve as a challenge for us to break! Our goal will be to figure out the plaintext block behind this ciphertext block with the help of a padding oracle."
   ]
  },
  {
   "cell_type": "code",
   "execution_count": null,
   "metadata": {},
   "outputs": [
    {
     "name": "stdout",
     "output_type": "stream",
     "text": [
      "1b957c4940d09b5468226d0158640d0c\n"
     ]
    }
   ],
   "source": [
    "from Crypto.Cipher import AES\n",
    "from Crypto.Random import get_random_bytes\n",
    "\n",
    "key = get_random_bytes(16)  # we create a 16-byte random key\n",
    "plaintext = get_random_bytes(16)  # we create a 16-byte random plaintext block\n",
    "cipher = AES.new(key, AES.MODE_ECB)  # we encrypt the plaintext block with the key\n",
    "ciphertext = cipher.encrypt(plaintext)  # to get the ciphertext block that the attacker has to break\n",
    "print(ciphertext.hex())"
   ]
  },
  {
   "cell_type": "markdown",
   "metadata": {},
   "source": [
    "OK, the above printed ciphertext block is our challenge: we have to figure out the plaintext block from which it was created. We have access to a padding oracle, which is defined in the code box below:"
   ]
  },
  {
   "cell_type": "code",
   "execution_count": null,
   "metadata": {},
   "outputs": [],
   "source": [
    "from Crypto.Util import Padding\n",
    "\n",
    "def oracle(x):\n",
    "    global key   # the oracle knows the key that was used to create the challenge ciphertext\n",
    "    cipher = AES.new(key, AES.MODE_CBC, x[:16])  # the first block of the input is interpreted as the IV\n",
    "    paddded_plaintext = cipher.decrypt(x[16:])  # the rest of the input is the ciphertext that the oracle decrypts in CBC mode\n",
    "    try:\n",
    "        Padding.unpad(paddded_plaintext, 16, style='iso7816')   # the oracle tries unpadding the result\n",
    "        return 'Padding OK'   # and return 'Padding OK' if the unpadding was successful\n",
    "    except:\n",
    "        return 'Padding error'  # otherwise the oracle returns 'Padding error' "
   ]
  },
  {
   "cell_type": "markdown",
   "metadata": {},
   "source": [
    "The attack starts here. We will send two-block inputs to the oracle where the first block `R` is a block that we constantly manipulate and the second block `Y` is the challenge ciphertext block that we want to break."
   ]
  },
  {
   "cell_type": "code",
   "execution_count": null,
   "metadata": {},
   "outputs": [
    {
     "name": "stdout",
     "output_type": "stream",
     "text": [
      "0000000000000000000000000000005c\r"
     ]
    }
   ],
   "source": [
    "Y = ciphertext\n",
    "\n",
    "for r in range(256):\n",
    "    R = bytes.fromhex('000000000000000000000000000000') + r.to_bytes(1)   # R consists of 00 bytes and only its last byte takes different values\n",
    "    print(R.hex(), end='\\r')\n",
    "    if oracle(R+Y) == 'Padding OK': break   # when the padding is correct, we stop"
   ]
  },
  {
   "cell_type": "markdown",
   "metadata": {},
   "source": [
    "So we found a block `R` (see above) such that for input `R`|`Y` we get a 'Padding OK' response from the oracle. We don't know, however, what specific padding was encountered by the oracle. The code below let you check which bytes of `R` affect the correctness of the padding, which ultimately let you figure out the length of the actual padding and hence the specific padding encountered. For this, just modify the bytes of `R`, run the code, and observe whether the padding remains correct or you get an error."
   ]
  },
  {
   "cell_type": "code",
   "execution_count": 46,
   "metadata": {},
   "outputs": [
    {
     "name": "stdout",
     "output_type": "stream",
     "text": [
      "Padding OK\n"
     ]
    }
   ],
   "source": [
    "print(oracle(bytes.fromhex('0000000000000000000000000000005c')+Y))"
   ]
  },
  {
   "cell_type": "markdown",
   "metadata": {},
   "source": [
    "At this point, we can most likely determine the last byte of the unknown plaintext..."
   ]
  },
  {
   "cell_type": "code",
   "execution_count": null,
   "metadata": {},
   "outputs": [
    {
     "name": "stdout",
     "output_type": "stream",
     "text": [
      "dc\n",
      "True\n"
     ]
    }
   ],
   "source": [
    "b = 0x5c ^ 0x80   # the last byte b of the plaintext can be computed like this\n",
    "print(b.to_bytes(1).hex())\n",
    "print(b == plaintext[-1])"
   ]
  },
  {
   "cell_type": "markdown",
   "metadata": {},
   "source": [
    "The code boxes below allow you to continue the attack along the same lines as above, and determine more bytes from the plaintext..."
   ]
  },
  {
   "cell_type": "code",
   "execution_count": 55,
   "metadata": {},
   "outputs": [
    {
     "name": "stdout",
     "output_type": "stream",
     "text": [
      "0000000000000000000000000000d7dc\r"
     ]
    }
   ],
   "source": [
    "for r in range(256):\n",
    "    R = bytes.fromhex('0000000000000000000000000000') + r.to_bytes(1) + bytes.fromhex('dc')\n",
    "    print(R.hex(), end='\\r')\n",
    "    if oracle(R+Y) == 'Padding OK': break"
   ]
  },
  {
   "cell_type": "code",
   "execution_count": 56,
   "metadata": {},
   "outputs": [
    {
     "name": "stdout",
     "output_type": "stream",
     "text": [
      "Padding OK\n"
     ]
    }
   ],
   "source": [
    "print(oracle(bytes.fromhex('0000000000000000000000000000d7dc')+Y))"
   ]
  },
  {
   "cell_type": "code",
   "execution_count": 57,
   "metadata": {},
   "outputs": [
    {
     "name": "stdout",
     "output_type": "stream",
     "text": [
      "57\n",
      "True\n"
     ]
    }
   ],
   "source": [
    "b = 0xd7 ^ 0x80\n",
    "print(b.to_bytes(1).hex())\n",
    "print(b == plaintext[-2])"
   ]
  }
 ],
 "metadata": {
  "kernelspec": {
   "display_name": "Python 3",
   "language": "python",
   "name": "python3"
  },
  "language_info": {
   "codemirror_mode": {
    "name": "ipython",
    "version": 3
   },
   "file_extension": ".py",
   "mimetype": "text/x-python",
   "name": "python",
   "nbconvert_exporter": "python",
   "pygments_lexer": "ipython3",
   "version": "3.11.4"
  }
 },
 "nbformat": 4,
 "nbformat_minor": 2
}
