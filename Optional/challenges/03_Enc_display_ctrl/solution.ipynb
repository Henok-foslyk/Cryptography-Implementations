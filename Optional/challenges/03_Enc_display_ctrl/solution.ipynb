{
 "cells": [
  {
   "cell_type": "code",
   "execution_count": 79,
   "id": "60f3adb5",
   "metadata": {},
   "outputs": [],
   "source": [
    "def displayer(ctrl_seq):\n",
    "\tD = []\n",
    "\tfor i in range(10):\n",
    "\t\td = []\n",
    "\t\tfor j in range(160):\n",
    "\t\t\td.append(' ')\n",
    "\t\tD.append(d)\n",
    "\n",
    "\ti, j = 0, 0\n",
    "\tfor c in ctrl_seq:\n",
    "\t\tif c == 0: j += 1\n",
    "\t\telif c == 1: j -= 1\n",
    "\t\telif c == 2: i += 1\n",
    "\t\telif c == 3: i -= 1\n",
    "\t\telse: D[i][j] = chr(c)\n",
    "\n",
    "\tfor i in range(10):\n",
    "\t\tfor j in range(160):\n",
    "\t\t\tprint(D[i][j], end='')\n",
    "\t\tprint('')"
   ]
  },
  {
   "cell_type": "code",
   "execution_count": 82,
   "id": "a509cbdf",
   "metadata": {},
   "outputs": [
    {
     "name": "stdout",
     "output_type": "stream",
     "text": [
      "4425\n",
      "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\n"
     ]
    }
   ],
   "source": [
    "file = open(\"proto_msgs.crypt\", \"rb\")\n",
    "byte_cipher = file.read()\n",
    "print(len(byte_cipher))\n",
    "\n",
    "commands = byte_cipher.hex()\n",
    "print(commands)\n",
    "\n",
    "trial = \"\"\n",
    "for i in range(1475):\n",
    "    num = str(i)\n",
    "    if len(num) < 4:\n",
    "        num = (\"0\"* (4 - len(num))) + num\n",
    "    trial += num + \"01\"\n",
    "byte_trial = bytes.fromhex(trial)\n",
    "\n",
    "key_candid = bytes(a ^ b for a, b in zip(byte_cipher, byte_trial))"
   ]
  },
  {
   "cell_type": "code",
   "execution_count": 67,
   "id": "a2c8de93",
   "metadata": {},
   "outputs": [],
   "source": [
    "with open(\"key_candid.bin\", \"wb\") as f:\n",
    "    # Encode the string 'x' to bytes and write it to the file\n",
    "    f.write(key_candid)"
   ]
  },
  {
   "cell_type": "code",
   "execution_count": 83,
   "id": "61a3ab7f",
   "metadata": {},
   "outputs": [],
   "source": [
    "with open(\"left_check.bin\", \"wb\") as f:\n",
    "    f.write(bytes(a ^ b for a, b in zip(byte_cipher, byte_trial)))"
   ]
  },
  {
   "cell_type": "code",
   "execution_count": 68,
   "id": "05a6e8e8",
   "metadata": {},
   "outputs": [],
   "source": [
    "partial_plaintext = bytes([b1 ^ b2 for b1, b2 in zip(key_candid, byte_cipher)])\n",
    "with open(\"partial_plaintext.bin\", \"wb\") as f:\n",
    "    f.write(partial_plaintext)"
   ]
  },
  {
   "cell_type": "code",
   "execution_count": null,
   "id": "c8162cc7",
   "metadata": {},
   "outputs": [],
   "source": [
    "import itertools\n",
    "import string\n",
    "from prng import PRNG\n",
    "from tqdm import tqdm\n",
    "\n",
    "def is_plausible(plaintext):\n",
    "    return all(32 <= b <= 126 or b in {0, 1, 2, 3} for b in plaintext)\n",
    "\n",
    "# Load encrypted file\n",
    "with open('proto_msgs.crypt', 'rb') as f:\n",
    "    ciphertext = f.read()\n",
    "\n",
    "# Use limited charset to make brute-force more feasible (printable ASCII)\n",
    "charset = string.ascii_letters + string.digits  # You may add punctuation for full set\n",
    "\n",
    "print(\"Starting brute force for 8-byte seeds...\\n\")\n",
    "\n",
    "for candidate in tqdm(itertools.product(charset, repeat=8)):\n",
    "    seed = ''.join(candidate).encode()\n",
    "\n",
    "    prng = PRNG()\n",
    "    prng.seed(seed)\n",
    "    keystream = prng.get_random_bytes(len(ciphertext))\n",
    "    plaintext = bytes([a ^ b for a, b in zip(ciphertext, keystream)])\n",
    "\n",
    "    if is_plausible(plaintext):\n",
    "        print(f\"\\n[+] Plausible seed found: {seed.decode()}\")\n",
    "        ctrl_seq = [plaintext[i + 2] for i in range(0, len(plaintext), 3)]\n",
    "        display(ctrl_seq)\n",
    "        break\n"
   ]
  }
 ],
 "metadata": {
  "kernelspec": {
   "display_name": "base",
   "language": "python",
   "name": "python3"
  },
  "language_info": {
   "codemirror_mode": {
    "name": "ipython",
    "version": 3
   },
   "file_extension": ".py",
   "mimetype": "text/x-python",
   "name": "python",
   "nbconvert_exporter": "python",
   "pygments_lexer": "ipython3",
   "version": "3.12.4"
  }
 },
 "nbformat": 4,
 "nbformat_minor": 5
}
