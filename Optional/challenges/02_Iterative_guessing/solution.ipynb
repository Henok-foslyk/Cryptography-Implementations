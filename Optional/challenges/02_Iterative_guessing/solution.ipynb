{
 "cells": [
  {
   "cell_type": "code",
   "execution_count": 1,
   "id": "ff9fb571",
   "metadata": {},
   "outputs": [],
   "source": [
    "import datetime\n",
    "from Crypto.Cipher import AES\n",
    "from Crypto.Hash import MD5, SHA256, HMAC\n",
    "from Crypto.Util.strxor import strxor"
   ]
  },
  {
   "cell_type": "code",
   "execution_count": 2,
   "id": "e2e84d6b",
   "metadata": {},
   "outputs": [],
   "source": [
    "initial_state = bytes.fromhex(\"b5562ff25e66e602eae4dbd61b2d5e8b\")"
   ]
  },
  {
   "cell_type": "code",
   "execution_count": 3,
   "id": "b48e22c2",
   "metadata": {},
   "outputs": [],
   "source": [
    "def prng_generate(state, timestamp_bytes):\n",
    "    h = MD5.new()\n",
    "    h.update(strxor(state, timestamp_bytes))\n",
    "    output = h.digest()\n",
    "    new_state = strxor(state, output)\n",
    "    return output, new_state"
   ]
  },
  {
   "cell_type": "code",
   "execution_count": 4,
   "id": "f4619eb2",
   "metadata": {},
   "outputs": [],
   "source": [
    "def generate_candidate_timestamps(base_time, window_minutes=10):\n",
    "    \"\"\"Generates candidate timestamps around the base time.\"\"\"\n",
    "    candidates = []\n",
    "    base_dt = datetime.datetime.strptime(base_time, \"%Y%m%d%H%M%S\")  # Parse base time\n",
    "    \n",
    "    # Generate timestamps for a window of `window_minutes` before and after base time\n",
    "    for delta in range(-window_minutes * 60,0):  # 5-minute window\n",
    "        candidate_dt = base_dt + datetime.timedelta(seconds=delta)\n",
    "        for centisecond in range(0, 100):  # Centisecond precision\n",
    "            timestamp_str = candidate_dt.strftime(\"%Y%m%d%H%M%S\") + f\"{centisecond:02d}\"\n",
    "            candidates.append(timestamp_str.encode('ascii'))  # Store as ASCII encoded byte string\n",
    "    \n",
    "    return candidates"
   ]
  },
  {
   "cell_type": "code",
   "execution_count": 5,
   "id": "74aa9dd4",
   "metadata": {},
   "outputs": [],
   "source": [
    "# Step 2: Generate candidate timestamps\n",
    "base_time = \"20220319121000\"  # March 19, 2022, 12:10:00 PM\n",
    "candidate_timestamps = generate_candidate_timestamps(base_time)\n"
   ]
  },
  {
   "cell_type": "code",
   "execution_count": 6,
   "id": "ff34ebfe",
   "metadata": {},
   "outputs": [],
   "source": [
    "def parse_message(file_path):\n",
    "    \"\"\"Parse the message from the binary file.\"\"\"\n",
    "    with open(file_path, 'rb') as f:\n",
    "        msg = f.read()  # Read the entire file content\n",
    "    \n",
    "    # Header: first 9 bytes\n",
    "    header = msg[:9]\n",
    "    # IV: next 16 bytes\n",
    "    iv = msg[9:25]\n",
    "    # MAC: last 32 bytes\n",
    "    mac = msg[-32:]\n",
    "    # Encrypted payload: everything in between\n",
    "    encrypted_payload = msg[25:-32]\n",
    "    \n",
    "    return header, iv, encrypted_payload, mac"
   ]
  },
  {
   "cell_type": "code",
   "execution_count": null,
   "id": "10295080",
   "metadata": {},
   "outputs": [],
   "source": [
    "# Step 3: Parse the message\n",
    "\n"
   ]
  },
  {
   "cell_type": "code",
   "execution_count": 16,
   "id": "f384923f",
   "metadata": {},
   "outputs": [],
   "source": [
    "def verify_mac(mackey, header, iv, encrypted_payload, mac):\n",
    "    \"\"\"Verify the MAC using HMAC and SHA256.\"\"\"\n",
    "    h = HMAC.new(mackey, digestmod=SHA256)\n",
    "    h.update(header)\n",
    "    h.update(iv)\n",
    "    h.update(encrypted_payload)\n",
    "    try:\n",
    "        h.verify(mac)  # This will raise an exception if the MAC does not match\n",
    "        return True, mackey.hex()\n",
    "    except ValueError:\n",
    "        return False, \"mackey NOT found\""
   ]
  },
  {
   "cell_type": "code",
   "execution_count": null,
   "id": "43df77a9",
   "metadata": {},
   "outputs": [],
   "source": [
    "message_file = \"message.bin\"\n",
    "header, iv, encrypted_payload, mac = parse_message(message_file)\n",
    "for candidate in candidate_timestamps:\n",
    "    mackey, new_state = prng_generate(initial_state, candidate)\n",
    "    mac_verified, mackey_val = verify_mac(mackey, header, iv, encrypted_payload, mac)\n",
    "    if mac_verified:\n",
    "        mac_timestamp_str = candidate.decode()\n",
    "        break"
   ]
  },
  {
   "cell_type": "code",
   "execution_count": 34,
   "id": "96d27949",
   "metadata": {},
   "outputs": [
    {
     "name": "stdout",
     "output_type": "stream",
     "text": [
      "2022031912092375\n"
     ]
    }
   ],
   "source": [
    "\n",
    "print(mac_timestamp_str.decode())\n",
    "mac_timestamp_bytes = mac_timestamp_str.hex().encode('ascii')\n"
   ]
  },
  {
   "cell_type": "code",
   "execution_count": null,
   "id": "74f3423f",
   "metadata": {},
   "outputs": [
    {
     "name": "stdout",
     "output_type": "stream",
     "text": [
      "4acebaa9b1137b59c238ba90c375932c\n",
      "[+] Found FLAG using timestamp: 2022031912092412\n",
      "All computers are hackable. This has as much to do with the computer market as it does with the technologies. We prefer our software full of features and inexpensive, at the expense of security and reliability. That your computer can affect the security of Twitter is a market failure. The industry is filled with market failures that, until now, have been largely ignorable. As computers continue to permeate our homes, cars, businesses, these market failures will no longer be tolerable. Our only solution will be regulation, and that regulation will be foisted on us by a government desperate to \"do something\" in the face of disaster.\n",
      "\n",
      "FLAG: 76bb5fe76d87d3bff541f78d6c6156b5\n",
      "\n",
      "Your modern refrigerator is a computer that keeps things cold. Your oven, similarly, is a computer that makes things hot. An ATM is a computer with money inside. Your car is no longer a mechanical device with some computers inside; it's a computer with four wheels and an engine. Actually, it's a distributed system of over 100 computers with four wheels and an engine. And, of course, your phones became full-power general-purpose computers in 2007, when the iPhone was introduced.\n"
     ]
    }
   ],
   "source": [
    "\n",
    "\n",
    "# Encrypted message components (assumed already extracted)\n",
    "with open(\"message.bin\", \"rb\") as f:\n",
    "    msg = f.read()\n",
    "header = msg[:9]\n",
    "iv = msg[9:25]\n",
    "mac = msg[-32:]\n",
    "encrypted_payload = msg[25:-32]\n",
    "\n",
    "def prng_generate(state, timestamp_bytes):\n",
    "    h = MD5.new()\n",
    "    h.update(strxor(state, timestamp_bytes))\n",
    "    output = h.digest()\n",
    "    new_state = strxor(state, output)\n",
    "    return output, new_state\n",
    "\n",
    "def decrypt_payload(enckey, iv, encrypted_payload):\n",
    "    cipher = AES.new(enckey, AES.MODE_CBC, iv)\n",
    "    decrypted = cipher.decrypt(encrypted_payload)\n",
    "    if b'\\x80' in decrypted:\n",
    "        decrypted = decrypted.rstrip(b'\\x00')\n",
    "        if decrypted.endswith(b'\\x80'):\n",
    "            decrypted = decrypted[:-1]\n",
    "    return decrypted\n",
    "\n",
    "# Step 1: Generate MAC key and update state\n",
    "mackey, state = prng_generate(initial_state, mac_timestamp_bytes)\n",
    "\n",
    "# Step 2: Iterate candidate timestamps for encryption key\n",
    "start_dt = datetime.datetime.strptime(\"20220319120923\", \"%Y%m%d%H%M%S\")\n",
    "for sec_offset in range(0, 38):  # Up to 20220319121000\n",
    "    current_time = start_dt + datetime.timedelta(seconds=sec_offset)\n",
    "    for cc in range(0, 100):\n",
    "        timestamp_str = current_time.strftime(\"%Y%m%d%H%M%S\") + f\"{cc:02d}\"\n",
    "        if timestamp_str <= mac_timestamp_str:\n",
    "            continue  # skip earlier timestamps\n",
    "        enc_timestamp_bytes = timestamp_str.encode('ascii')\n",
    "        enckey, _ = prng_generate(state, enc_timestamp_bytes)\n",
    "        decrypted = decrypt_payload(enckey, iv, encrypted_payload)\n",
    "        if b\"FLAG\" in decrypted:\n",
    "            print(enckey.hex())\n",
    "            print(f\"[+] Found FLAG using timestamp: {timestamp_str}\")\n",
    "            print(decrypted.decode(errors='ignore'))\n",
    "            break\n"
   ]
  }
 ],
 "metadata": {
  "kernelspec": {
   "display_name": "base",
   "language": "python",
   "name": "python3"
  },
  "language_info": {
   "codemirror_mode": {
    "name": "ipython",
    "version": 3
   },
   "file_extension": ".py",
   "mimetype": "text/x-python",
   "name": "python",
   "nbconvert_exporter": "python",
   "pygments_lexer": "ipython3",
   "version": "3.12.4"
  }
 },
 "nbformat": 4,
 "nbformat_minor": 5
}
