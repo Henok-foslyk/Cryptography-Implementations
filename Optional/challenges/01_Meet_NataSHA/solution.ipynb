{
 "cells": [
  {
   "cell_type": "code",
   "execution_count": 5,
   "id": "8b6dc658",
   "metadata": {},
   "outputs": [],
   "source": [
    "plaintext = 'Meet_NataSHA_which_is_not_a_SHA_although'\n",
    "full_cipher = \"ae055b48d8fa60bc337ff846ee88fe33c7e026a5ea54dbb59814c68265540cef1c183ef7465536868c4febe7e2f0a6d43110d37576535b8518eaa4b7ce3ac3722816062755aa8b5ed82eadf76e8af6f5\"\n",
    "ciphertext_hex = full_cipher[:80]\n",
    "second_block_cipher = full_cipher[80:]"
   ]
  },
  {
   "cell_type": "code",
   "execution_count": 1,
   "id": "3ac8e4a7",
   "metadata": {},
   "outputs": [],
   "source": [
    "from natasha import ENC, RF, DEC\n",
    "from tqdm import tqdm"
   ]
  },
  {
   "cell_type": "code",
   "execution_count": 7,
   "id": "a4ebd891",
   "metadata": {},
   "outputs": [],
   "source": [
    "byte_input = bytes(plaintext, \"utf-8\")\n",
    "byte_ciph = bytes.fromhex(ciphertext_hex)"
   ]
  },
  {
   "cell_type": "code",
   "execution_count": 12,
   "id": "95af72ad",
   "metadata": {},
   "outputs": [],
   "source": [
    "def sha_hash_24(text):\n",
    "    val_map = dict()\n",
    "    L_orig, R_orig = text[:20], text[20:]\n",
    "    for k in range(2**24):\n",
    "        key = k.to_bytes(3, byteorder=\"big\")\n",
    "        k0, k1,k2 = key[0:1], key[1:2], key[2:3]\n",
    "        R, L = RF(L_orig, R_orig, k0)\n",
    "        R, L = RF(L, R, k1)\n",
    "        R, _ = RF(L, R, k2)\n",
    "        val_map[R] = key\n",
    "    return val_map\n",
    "\n",
    "def findkeys(plaintext, other_map):\n",
    "    L_orig, R_orig = plaintext[:20], plaintext[20:]\n",
    "    for k in tqdm(range(2**24)):\n",
    "        k0 = k & ((1 << 8) - 1)\n",
    "        k1 = (k & ((1 << 16) - 1)) >> 8\n",
    "        k2 = (k & ((1 << 24) - 1)) >> 16\n",
    "        k0, k1, k2 = k0.to_bytes(1, byteorder=\"big\"), k1.to_bytes(1, byteorder=\"big\"), k2.to_bytes(1, byteorder=\"big\")\n",
    "        R, L = RF(L_orig, R_orig, k0)\n",
    "        R, L = RF(L, R, k1)\n",
    "        R, _ = RF(L, R, k2)\n",
    "        if R in other_map:\n",
    "            return k0 + k1 + k2, other_map[R]\n",
    "\n",
    "\n",
    "def sha_hash_16(cipher_text_in_bytes):\n",
    "    val_maps = dict()\n",
    "    R_orig, L_orig = cipher_text_in_bytes[:20], cipher_text_in_bytes[20:]\n",
    "    for k in tqdm(range(2**16)):\n",
    "        key = k.to_bytes(2, byteorder=\"big\")\n",
    "        k4, k5 = key[0:1], key[1:2]\n",
    "        R, L = RF(R_orig, L_orig, k5)\n",
    "        R, _ = RF(L, R, k4)\n",
    "        val_maps[R] = key\n",
    "    return val_maps\n",
    "\n",
    "\n",
    "def brute_force(first, second):\n",
    "    for keys in second:\n",
    "        if keys in first:\n",
    "            k02 = first[keys]\n",
    "            k45 = second[keys]\n",
    "            print(\"success\")\n",
    "\n",
    "    for k in range(2**8):\n",
    "        k3 = k.to_bytes(1, byteorder=\"big\")\n",
    "        key = k02 + k3 + k45\n",
    "        if ENC(byte_input, key) == byte_ciph:\n",
    "            print(key)\n",
    "            return key\n",
    "    \n"
   ]
  },
  {
   "cell_type": "code",
   "execution_count": null,
   "id": "27dc103b",
   "metadata": {},
   "outputs": [],
   "source": [
    "l1_map = sha_hash_24(byte_input)"
   ]
  },
  {
   "cell_type": "code",
   "execution_count": 13,
   "id": "849df5a6",
   "metadata": {},
   "outputs": [
    {
     "name": "stderr",
     "output_type": "stream",
     "text": [
      "100%|██████████| 65536/65536 [00:01<00:00, 35557.28it/s]\n",
      " 81%|████████  | 13562171/16777216 [09:27<02:14, 23910.06it/s]\n"
     ]
    }
   ],
   "source": [
    "l2_map = sha_hash_16(byte_ciph)\n",
    "\n",
    "k012, k45 = findkeys(byte_input, l2_map)"
   ]
  },
  {
   "cell_type": "code",
   "execution_count": 64,
   "id": "27c9fd7c",
   "metadata": {},
   "outputs": [
    {
     "data": {
      "text/plain": [
       "b'_we_use_it_not_to_hash_but_to_encrypt...'"
      ]
     },
     "execution_count": 64,
     "metadata": {},
     "output_type": "execute_result"
    }
   ],
   "source": [
    "sec_cipher = bytes.fromhex(second_block_cipher)\n",
    "DEC(sec_cipher, byte_key)"
   ]
  },
  {
   "cell_type": "code",
   "execution_count": 15,
   "id": "7c25d82f",
   "metadata": {},
   "outputs": [
    {
     "data": {
      "text/plain": [
       "'Meet_NataSHA_which_is_not_a_SHA_although'"
      ]
     },
     "execution_count": 15,
     "metadata": {},
     "output_type": "execute_result"
    }
   ],
   "source": [
    "byte_input.decode('utf-8')"
   ]
  }
 ],
 "metadata": {
  "kernelspec": {
   "display_name": "base",
   "language": "python",
   "name": "python3"
  },
  "language_info": {
   "codemirror_mode": {
    "name": "ipython",
    "version": 3
   },
   "file_extension": ".py",
   "mimetype": "text/x-python",
   "name": "python",
   "nbconvert_exporter": "python",
   "pygments_lexer": "ipython3",
   "version": "3.12.4"
  }
 },
 "nbformat": 4,
 "nbformat_minor": 5
}
